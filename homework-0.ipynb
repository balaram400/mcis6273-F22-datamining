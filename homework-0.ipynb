{
  "metadata": {
    "language_info": {
      "codemirror_mode": {
        "name": "python",
        "version": 3
      },
      "file_extension": ".py",
      "mimetype": "text/x-python",
      "name": "python",
      "nbconvert_exporter": "python",
      "pygments_lexer": "ipython3",
      "version": "3.8"
    },
    "kernelspec": {
      "name": "python",
      "display_name": "Python (Pyodide)",
      "language": "python"
    }
  },
  "nbformat_minor": 4,
  "nbformat": 4,
  "cells": [
    {
      "cell_type": "markdown",
      "source": "## what are we learning from the podcast \n* question-1)-I Gained some knowledge and some important lessons *from* the Python podcast, particularly \n              The Adam has described the advantages Github and Jupyter notebook have brought to the data industry. Knowing                 this proved to be quite helpful. **especially** given that Github has applications outside of academic\n              Amazingly, adopting notebooks has increased data science's usefulness for students while also allowing it to                 be applied to a wide range of other disciplines and also the utilizing a cell-by-cell description in                         thenotebook.\n \n\n* question-2)-From the recording it is mentioned that  if we go to deeper level we can learn a lot in this **virtual                       things** and some of the developing skills and *also to create meaningful virtu this podcast was very helpful               in  understanding* how it works to build and run\n\n\n* question-3)-After the *podcast* i got the thought to learn as **I am in the beginning stage to learn**this i need to start               working on the and need to upskill my knowledge.",
      "metadata": {}
    }
  ]
}